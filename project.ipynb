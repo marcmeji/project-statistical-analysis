{
 "cells": [
  {
   "cell_type": "markdown",
   "metadata": {},
   "source": [
    "## Importing libraries"
   ]
  },
  {
   "cell_type": "code",
   "execution_count": 1,
   "metadata": {},
   "outputs": [],
   "source": [
    "import pandas as pd\n",
    "import numpy as np\n",
    "from scipy import stats\n",
    "import matplotlib.pyplot as plt\n",
    "%matplotlib inline\n",
    "import seaborn as sns"
   ]
  },
  {
   "cell_type": "markdown",
   "metadata": {},
   "source": [
    "## Importing data"
   ]
  },
  {
   "cell_type": "code",
   "execution_count": 2,
   "metadata": {},
   "outputs": [
    {
     "data": {
      "text/html": [
       "<div>\n",
       "<style scoped>\n",
       "    .dataframe tbody tr th:only-of-type {\n",
       "        vertical-align: middle;\n",
       "    }\n",
       "\n",
       "    .dataframe tbody tr th {\n",
       "        vertical-align: top;\n",
       "    }\n",
       "\n",
       "    .dataframe thead th {\n",
       "        text-align: right;\n",
       "    }\n",
       "</style>\n",
       "<table border=\"1\" class=\"dataframe\">\n",
       "  <thead>\n",
       "    <tr style=\"text-align: right;\">\n",
       "      <th></th>\n",
       "      <th>Age</th>\n",
       "      <th>Gender</th>\n",
       "      <th>Region</th>\n",
       "      <th>Weight</th>\n",
       "      <th>Height</th>\n",
       "      <th>Body Mass Index</th>\n",
       "      <th>Obesity</th>\n",
       "      <th>Waist</th>\n",
       "      <th>Maximum Blood Pressure</th>\n",
       "      <th>Minimum Blood Pressure</th>\n",
       "      <th>...</th>\n",
       "      <th>PoorVision</th>\n",
       "      <th>Alcohol Consumption</th>\n",
       "      <th>HyperTension</th>\n",
       "      <th>Family  HyperTension</th>\n",
       "      <th>Diabetes</th>\n",
       "      <th>Family Diabetes</th>\n",
       "      <th>Hepatitis</th>\n",
       "      <th>Family Hepatitis</th>\n",
       "      <th>Chronic Fatigue</th>\n",
       "      <th>ALF</th>\n",
       "    </tr>\n",
       "  </thead>\n",
       "  <tbody>\n",
       "    <tr>\n",
       "      <th>0</th>\n",
       "      <td>65</td>\n",
       "      <td>M</td>\n",
       "      <td>east</td>\n",
       "      <td>56.0</td>\n",
       "      <td>162.1</td>\n",
       "      <td>21.31</td>\n",
       "      <td>0.0</td>\n",
       "      <td>83.6</td>\n",
       "      <td>135.0</td>\n",
       "      <td>71.0</td>\n",
       "      <td>...</td>\n",
       "      <td>0.0</td>\n",
       "      <td>1</td>\n",
       "      <td>0.0</td>\n",
       "      <td>0</td>\n",
       "      <td>0.0</td>\n",
       "      <td>1</td>\n",
       "      <td>1.0</td>\n",
       "      <td>0.0</td>\n",
       "      <td>0.0</td>\n",
       "      <td>0.0</td>\n",
       "    </tr>\n",
       "    <tr>\n",
       "      <th>1</th>\n",
       "      <td>36</td>\n",
       "      <td>M</td>\n",
       "      <td>south</td>\n",
       "      <td>60.2</td>\n",
       "      <td>162.2</td>\n",
       "      <td>22.88</td>\n",
       "      <td>0.0</td>\n",
       "      <td>76.6</td>\n",
       "      <td>96.0</td>\n",
       "      <td>52.0</td>\n",
       "      <td>...</td>\n",
       "      <td>0.0</td>\n",
       "      <td>0</td>\n",
       "      <td>0.0</td>\n",
       "      <td>0</td>\n",
       "      <td>0.0</td>\n",
       "      <td>0</td>\n",
       "      <td>0.0</td>\n",
       "      <td>0.0</td>\n",
       "      <td>0.0</td>\n",
       "      <td>0.0</td>\n",
       "    </tr>\n",
       "    <tr>\n",
       "      <th>2</th>\n",
       "      <td>66</td>\n",
       "      <td>M</td>\n",
       "      <td>east</td>\n",
       "      <td>83.9</td>\n",
       "      <td>162.5</td>\n",
       "      <td>31.77</td>\n",
       "      <td>1.0</td>\n",
       "      <td>113.2</td>\n",
       "      <td>115.0</td>\n",
       "      <td>57.0</td>\n",
       "      <td>...</td>\n",
       "      <td>0.0</td>\n",
       "      <td>1</td>\n",
       "      <td>0.0</td>\n",
       "      <td>0</td>\n",
       "      <td>1.0</td>\n",
       "      <td>0</td>\n",
       "      <td>0.0</td>\n",
       "      <td>0.0</td>\n",
       "      <td>0.0</td>\n",
       "      <td>0.0</td>\n",
       "    </tr>\n",
       "    <tr>\n",
       "      <th>3</th>\n",
       "      <td>54</td>\n",
       "      <td>M</td>\n",
       "      <td>east</td>\n",
       "      <td>69.4</td>\n",
       "      <td>160.5</td>\n",
       "      <td>26.94</td>\n",
       "      <td>0.0</td>\n",
       "      <td>77.9</td>\n",
       "      <td>110.0</td>\n",
       "      <td>57.0</td>\n",
       "      <td>...</td>\n",
       "      <td>0.0</td>\n",
       "      <td>1</td>\n",
       "      <td>0.0</td>\n",
       "      <td>0</td>\n",
       "      <td>0.0</td>\n",
       "      <td>0</td>\n",
       "      <td>0.0</td>\n",
       "      <td>0.0</td>\n",
       "      <td>0.0</td>\n",
       "      <td>0.0</td>\n",
       "    </tr>\n",
       "    <tr>\n",
       "      <th>4</th>\n",
       "      <td>63</td>\n",
       "      <td>M</td>\n",
       "      <td>north</td>\n",
       "      <td>73.1</td>\n",
       "      <td>159.2</td>\n",
       "      <td>28.84</td>\n",
       "      <td>0.0</td>\n",
       "      <td>89.3</td>\n",
       "      <td>132.0</td>\n",
       "      <td>73.0</td>\n",
       "      <td>...</td>\n",
       "      <td>0.0</td>\n",
       "      <td>0</td>\n",
       "      <td>1.0</td>\n",
       "      <td>0</td>\n",
       "      <td>0.0</td>\n",
       "      <td>0</td>\n",
       "      <td>0.0</td>\n",
       "      <td>0.0</td>\n",
       "      <td>0.0</td>\n",
       "      <td>0.0</td>\n",
       "    </tr>\n",
       "  </tbody>\n",
       "</table>\n",
       "<p>5 rows × 30 columns</p>\n",
       "</div>"
      ],
      "text/plain": [
       "   Age Gender Region  Weight  Height  Body Mass Index  Obesity  Waist  \\\n",
       "0   65      M   east    56.0   162.1            21.31      0.0   83.6   \n",
       "1   36      M  south    60.2   162.2            22.88      0.0   76.6   \n",
       "2   66      M   east    83.9   162.5            31.77      1.0  113.2   \n",
       "3   54      M   east    69.4   160.5            26.94      0.0   77.9   \n",
       "4   63      M  north    73.1   159.2            28.84      0.0   89.3   \n",
       "\n",
       "   Maximum Blood Pressure  Minimum Blood Pressure ...   PoorVision  \\\n",
       "0                   135.0                    71.0 ...          0.0   \n",
       "1                    96.0                    52.0 ...          0.0   \n",
       "2                   115.0                    57.0 ...          0.0   \n",
       "3                   110.0                    57.0 ...          0.0   \n",
       "4                   132.0                    73.0 ...          0.0   \n",
       "\n",
       "   Alcohol Consumption  HyperTension  Family  HyperTension  Diabetes  \\\n",
       "0                    1           0.0                     0       0.0   \n",
       "1                    0           0.0                     0       0.0   \n",
       "2                    1           0.0                     0       1.0   \n",
       "3                    1           0.0                     0       0.0   \n",
       "4                    0           1.0                     0       0.0   \n",
       "\n",
       "   Family Diabetes  Hepatitis  Family Hepatitis  Chronic Fatigue  ALF  \n",
       "0                1        1.0               0.0              0.0  0.0  \n",
       "1                0        0.0               0.0              0.0  0.0  \n",
       "2                0        0.0               0.0              0.0  0.0  \n",
       "3                0        0.0               0.0              0.0  0.0  \n",
       "4                0        0.0               0.0              0.0  0.0  \n",
       "\n",
       "[5 rows x 30 columns]"
      ]
     },
     "execution_count": 2,
     "metadata": {},
     "output_type": "execute_result"
    }
   ],
   "source": [
    "data = pd.read_excel('ALF_Data.xlsx')\n",
    "data.head()"
   ]
  },
  {
   "cell_type": "code",
   "execution_count": 3,
   "metadata": {},
   "outputs": [
    {
     "name": "stdout",
     "output_type": "stream",
     "text": [
      "<class 'pandas.core.frame.DataFrame'>\n",
      "RangeIndex: 8785 entries, 0 to 8784\n",
      "Data columns (total 30 columns):\n",
      "Age                       8785 non-null int64\n",
      "Gender                    8785 non-null object\n",
      "Region                    8785 non-null object\n",
      "Weight                    8591 non-null float64\n",
      "Height                    8594 non-null float64\n",
      "Body Mass Index           8495 non-null float64\n",
      "Obesity                   8495 non-null float64\n",
      "Waist                     8471 non-null float64\n",
      "Maximum Blood Pressure    8481 non-null float64\n",
      "Minimum Blood Pressure    8409 non-null float64\n",
      "Good Cholesterol          8768 non-null float64\n",
      "Bad Cholesterol           8767 non-null float64\n",
      "Total Cholesterol         8769 non-null float64\n",
      "Dyslipidemia              8785 non-null int64\n",
      "PVD                       8785 non-null int64\n",
      "Physical Activity         8775 non-null float64\n",
      "Education                 8765 non-null float64\n",
      "Unmarried                 8333 non-null float64\n",
      "Income                    7624 non-null float64\n",
      "Source of Care            8785 non-null object\n",
      "PoorVision                8222 non-null float64\n",
      "Alcohol Consumption       8785 non-null int64\n",
      "HyperTension              8705 non-null float64\n",
      "Family  HyperTension      8785 non-null int64\n",
      "Diabetes                  8783 non-null float64\n",
      "Family Diabetes           8785 non-null int64\n",
      "Hepatitis                 8763 non-null float64\n",
      "Family Hepatitis          8779 non-null float64\n",
      "Chronic Fatigue           8750 non-null float64\n",
      "ALF                       6000 non-null float64\n",
      "dtypes: float64(21), int64(6), object(3)\n",
      "memory usage: 2.0+ MB\n"
     ]
    }
   ],
   "source": [
    "data.info()"
   ]
  },
  {
   "cell_type": "markdown",
   "metadata": {},
   "source": [
    "## Data cleaning"
   ]
  },
  {
   "cell_type": "code",
   "execution_count": 4,
   "metadata": {},
   "outputs": [
    {
     "data": {
      "text/plain": [
       "Age                          0\n",
       "Gender                       0\n",
       "Region                       0\n",
       "Weight                     194\n",
       "Height                     191\n",
       "Body Mass Index            290\n",
       "Obesity                    290\n",
       "Waist                      314\n",
       "Maximum Blood Pressure     304\n",
       "Minimum Blood Pressure     376\n",
       "Good Cholesterol            17\n",
       "Bad Cholesterol             18\n",
       "Total Cholesterol           16\n",
       "Dyslipidemia                 0\n",
       "PVD                          0\n",
       "Physical Activity           10\n",
       "Education                   20\n",
       "Unmarried                  452\n",
       "Income                    1161\n",
       "Source of Care               0\n",
       "PoorVision                 563\n",
       "Alcohol Consumption          0\n",
       "HyperTension                80\n",
       "Family  HyperTension         0\n",
       "Diabetes                     2\n",
       "Family Diabetes              0\n",
       "Hepatitis                   22\n",
       "Family Hepatitis             6\n",
       "Chronic Fatigue             35\n",
       "ALF                       2785\n",
       "dtype: int64"
      ]
     },
     "execution_count": 4,
     "metadata": {},
     "output_type": "execute_result"
    }
   ],
   "source": [
    "#Finding null values\n",
    "\n",
    "data.isnull().sum()"
   ]
  },
  {
   "cell_type": "code",
   "execution_count": 5,
   "metadata": {},
   "outputs": [
    {
     "data": {
      "text/plain": [
       "Age                         0\n",
       "Gender                      0\n",
       "Region                      0\n",
       "Weight                    133\n",
       "Height                    139\n",
       "Body Mass Index           206\n",
       "Obesity                   206\n",
       "Waist                     215\n",
       "Maximum Blood Pressure    206\n",
       "Minimum Blood Pressure    252\n",
       "Good Cholesterol            8\n",
       "Bad Cholesterol             8\n",
       "Total Cholesterol           6\n",
       "Dyslipidemia                0\n",
       "PVD                         0\n",
       "Physical Activity           8\n",
       "Education                  15\n",
       "Unmarried                 301\n",
       "Income                    792\n",
       "Source of Care              0\n",
       "PoorVision                376\n",
       "Alcohol Consumption         0\n",
       "HyperTension               53\n",
       "Family  HyperTension        0\n",
       "Diabetes                    1\n",
       "Family Diabetes             0\n",
       "Hepatitis                  13\n",
       "Family Hepatitis            3\n",
       "Chronic Fatigue            26\n",
       "ALF                         0\n",
       "dtype: int64"
      ]
     },
     "execution_count": 5,
     "metadata": {},
     "output_type": "execute_result"
    }
   ],
   "source": [
    "#Since ALF is the key variable in the dataset we drop rows with null values for ALF\n",
    "\n",
    "data = data.loc[data['ALF'].notnull()]\n",
    "data.isnull().sum()"
   ]
  },
  {
   "cell_type": "code",
   "execution_count": 6,
   "metadata": {},
   "outputs": [
    {
     "data": {
      "text/plain": [
       "Age                         0\n",
       "Gender                      0\n",
       "Region                      0\n",
       "Weight                      0\n",
       "Height                      0\n",
       "Body Mass Index             0\n",
       "Obesity                   206\n",
       "Waist                       0\n",
       "Maximum Blood Pressure      0\n",
       "Minimum Blood Pressure      0\n",
       "Good Cholesterol            0\n",
       "Bad Cholesterol             0\n",
       "Total Cholesterol           0\n",
       "Dyslipidemia                0\n",
       "PVD                         0\n",
       "Physical Activity           8\n",
       "Education                  15\n",
       "Unmarried                 301\n",
       "Income                    792\n",
       "Source of Care              0\n",
       "PoorVision                376\n",
       "Alcohol Consumption         0\n",
       "HyperTension               53\n",
       "Family  HyperTension        0\n",
       "Diabetes                    1\n",
       "Family Diabetes             0\n",
       "Hepatitis                  13\n",
       "Family Hepatitis            3\n",
       "Chronic Fatigue            26\n",
       "ALF                         0\n",
       "dtype: int64"
      ]
     },
     "execution_count": 6,
     "metadata": {},
     "output_type": "execute_result"
    }
   ],
   "source": [
    "# Columns with continuous variables: replace null values with column mean\n",
    "# The maximum number of nulls in continuous variables is 252 from 6000, so we are not changing \n",
    "# the distributions very much.\n",
    "\n",
    "cont_var = ['Weight', 'Height', 'Body Mass Index', 'Waist', 'Maximum Blood Pressure', \n",
    "            'Minimum Blood Pressure', 'Good Cholesterol', 'Bad Cholesterol', 'Total Cholesterol']\n",
    "\n",
    "for col in cont_var:\n",
    "    data[col] = data[col].fillna(data[col].mean())\n",
    "    \n",
    "data.isnull().sum()"
   ]
  },
  {
   "cell_type": "code",
   "execution_count": 7,
   "metadata": {},
   "outputs": [
    {
     "name": "stdout",
     "output_type": "stream",
     "text": [
      "<class 'pandas.core.frame.DataFrame'>\n",
      "Int64Index: 6000 entries, 0 to 5999\n",
      "Data columns (total 30 columns):\n",
      "Age                       6000 non-null int64\n",
      "Gender                    6000 non-null object\n",
      "Region                    6000 non-null object\n",
      "Weight                    6000 non-null float64\n",
      "Height                    6000 non-null float64\n",
      "Body Mass Index           6000 non-null float64\n",
      "Obesity                   5794 non-null float64\n",
      "Waist                     6000 non-null float64\n",
      "Maximum Blood Pressure    6000 non-null float64\n",
      "Minimum Blood Pressure    6000 non-null float64\n",
      "Good Cholesterol          6000 non-null float64\n",
      "Bad Cholesterol           6000 non-null float64\n",
      "Total Cholesterol         6000 non-null float64\n",
      "Dyslipidemia              6000 non-null int64\n",
      "PVD                       6000 non-null int64\n",
      "Physical Activity         5992 non-null float64\n",
      "Education                 5985 non-null float64\n",
      "Unmarried                 5699 non-null float64\n",
      "Income                    5208 non-null float64\n",
      "Source of Care            6000 non-null object\n",
      "PoorVision                5624 non-null float64\n",
      "Alcohol Consumption       6000 non-null int64\n",
      "HyperTension              5947 non-null float64\n",
      "Family  HyperTension      6000 non-null int64\n",
      "Diabetes                  5999 non-null float64\n",
      "Family Diabetes           6000 non-null int64\n",
      "Hepatitis                 5987 non-null float64\n",
      "Family Hepatitis          5997 non-null float64\n",
      "Chronic Fatigue           5974 non-null float64\n",
      "ALF                       6000 non-null float64\n",
      "dtypes: float64(21), int64(6), object(3)\n",
      "memory usage: 1.4+ MB\n"
     ]
    }
   ],
   "source": [
    "data.info()"
   ]
  },
  {
   "cell_type": "code",
   "execution_count": 8,
   "metadata": {},
   "outputs": [],
   "source": [
    "#ALF is a categorical variable but it is float64\n",
    "#Changing all dichotomous discrete variable to categorical\n",
    "\n",
    "data[['Dyslipidemia', 'PVD', 'Physical Activity', 'Education', 'Unmarried',\n",
    "       'Income', 'Source of Care', 'PoorVision', 'Alcohol Consumption',\n",
    "       'HyperTension', 'Family  HyperTension', 'Diabetes', 'Family Diabetes',\n",
    "       'Hepatitis', 'Family Hepatitis', 'Chronic Fatigue', 'ALF']] = data[['Dyslipidemia', 'PVD', 'Physical Activity', 'Education', 'Unmarried',\n",
    "       'Income', 'Source of Care', 'PoorVision', 'Alcohol Consumption',\n",
    "       'HyperTension', 'Family  HyperTension', 'Diabetes', 'Family Diabetes',\n",
    "       'Hepatitis', 'Family Hepatitis', 'Chronic Fatigue', 'ALF']].astype('category')\n"
   ]
  },
  {
   "cell_type": "code",
   "execution_count": 9,
   "metadata": {},
   "outputs": [
    {
     "name": "stdout",
     "output_type": "stream",
     "text": [
      "<class 'pandas.core.frame.DataFrame'>\n",
      "Int64Index: 6000 entries, 0 to 5999\n",
      "Data columns (total 30 columns):\n",
      "Age                       6000 non-null int64\n",
      "Gender                    6000 non-null object\n",
      "Region                    6000 non-null object\n",
      "Weight                    6000 non-null float64\n",
      "Height                    6000 non-null float64\n",
      "Body Mass Index           6000 non-null float64\n",
      "Obesity                   5794 non-null float64\n",
      "Waist                     6000 non-null float64\n",
      "Maximum Blood Pressure    6000 non-null float64\n",
      "Minimum Blood Pressure    6000 non-null float64\n",
      "Good Cholesterol          6000 non-null float64\n",
      "Bad Cholesterol           6000 non-null float64\n",
      "Total Cholesterol         6000 non-null float64\n",
      "Dyslipidemia              6000 non-null category\n",
      "PVD                       6000 non-null category\n",
      "Physical Activity         5992 non-null category\n",
      "Education                 5985 non-null category\n",
      "Unmarried                 5699 non-null category\n",
      "Income                    5208 non-null category\n",
      "Source of Care            6000 non-null category\n",
      "PoorVision                5624 non-null category\n",
      "Alcohol Consumption       6000 non-null category\n",
      "HyperTension              5947 non-null category\n",
      "Family  HyperTension      6000 non-null category\n",
      "Diabetes                  5999 non-null category\n",
      "Family Diabetes           6000 non-null category\n",
      "Hepatitis                 5987 non-null category\n",
      "Family Hepatitis          5997 non-null category\n",
      "Chronic Fatigue           5974 non-null category\n",
      "ALF                       6000 non-null category\n",
      "dtypes: category(17), float64(10), int64(1), object(2)\n",
      "memory usage: 757.6+ KB\n"
     ]
    }
   ],
   "source": [
    "data.info()"
   ]
  },
  {
   "cell_type": "code",
   "execution_count": 10,
   "metadata": {},
   "outputs": [
    {
     "data": {
      "text/html": [
       "<div>\n",
       "<style scoped>\n",
       "    .dataframe tbody tr th:only-of-type {\n",
       "        vertical-align: middle;\n",
       "    }\n",
       "\n",
       "    .dataframe tbody tr th {\n",
       "        vertical-align: top;\n",
       "    }\n",
       "\n",
       "    .dataframe thead th {\n",
       "        text-align: right;\n",
       "    }\n",
       "</style>\n",
       "<table border=\"1\" class=\"dataframe\">\n",
       "  <thead>\n",
       "    <tr style=\"text-align: right;\">\n",
       "      <th></th>\n",
       "      <th>Age</th>\n",
       "      <th>Gender</th>\n",
       "      <th>Region</th>\n",
       "      <th>Weight</th>\n",
       "      <th>Height</th>\n",
       "      <th>Body Mass Index</th>\n",
       "      <th>Obesity</th>\n",
       "      <th>Waist</th>\n",
       "      <th>Maximum Blood Pressure</th>\n",
       "      <th>Minimum Blood Pressure</th>\n",
       "      <th>...</th>\n",
       "      <th>PoorVision</th>\n",
       "      <th>Alcohol Consumption</th>\n",
       "      <th>HyperTension</th>\n",
       "      <th>Family  HyperTension</th>\n",
       "      <th>Diabetes</th>\n",
       "      <th>Family Diabetes</th>\n",
       "      <th>Hepatitis</th>\n",
       "      <th>Family Hepatitis</th>\n",
       "      <th>Chronic Fatigue</th>\n",
       "      <th>ALF</th>\n",
       "    </tr>\n",
       "  </thead>\n",
       "  <tbody>\n",
       "    <tr>\n",
       "      <th>4979</th>\n",
       "      <td>52</td>\n",
       "      <td>F</td>\n",
       "      <td>east</td>\n",
       "      <td>95.4</td>\n",
       "      <td>177.6</td>\n",
       "      <td>30.25</td>\n",
       "      <td>1.0</td>\n",
       "      <td>113.3</td>\n",
       "      <td>145.0</td>\n",
       "      <td>88.0</td>\n",
       "      <td>...</td>\n",
       "      <td>0.0</td>\n",
       "      <td>0</td>\n",
       "      <td>1.0</td>\n",
       "      <td>1</td>\n",
       "      <td>0.0</td>\n",
       "      <td>0</td>\n",
       "      <td>0.0</td>\n",
       "      <td>0.0</td>\n",
       "      <td>0.0</td>\n",
       "      <td>0.0</td>\n",
       "    </tr>\n",
       "    <tr>\n",
       "      <th>2745</th>\n",
       "      <td>62</td>\n",
       "      <td>M</td>\n",
       "      <td>north</td>\n",
       "      <td>82.5</td>\n",
       "      <td>152.5</td>\n",
       "      <td>35.47</td>\n",
       "      <td>1.0</td>\n",
       "      <td>106.7</td>\n",
       "      <td>161.0</td>\n",
       "      <td>72.0</td>\n",
       "      <td>...</td>\n",
       "      <td>0.0</td>\n",
       "      <td>0</td>\n",
       "      <td>1.0</td>\n",
       "      <td>0</td>\n",
       "      <td>1.0</td>\n",
       "      <td>1</td>\n",
       "      <td>0.0</td>\n",
       "      <td>0.0</td>\n",
       "      <td>0.0</td>\n",
       "      <td>0.0</td>\n",
       "    </tr>\n",
       "    <tr>\n",
       "      <th>2786</th>\n",
       "      <td>30</td>\n",
       "      <td>M</td>\n",
       "      <td>north</td>\n",
       "      <td>74.2</td>\n",
       "      <td>152.9</td>\n",
       "      <td>31.74</td>\n",
       "      <td>1.0</td>\n",
       "      <td>84.4</td>\n",
       "      <td>120.0</td>\n",
       "      <td>65.0</td>\n",
       "      <td>...</td>\n",
       "      <td>0.0</td>\n",
       "      <td>0</td>\n",
       "      <td>0.0</td>\n",
       "      <td>1</td>\n",
       "      <td>0.0</td>\n",
       "      <td>1</td>\n",
       "      <td>0.0</td>\n",
       "      <td>0.0</td>\n",
       "      <td>0.0</td>\n",
       "      <td>0.0</td>\n",
       "    </tr>\n",
       "    <tr>\n",
       "      <th>487</th>\n",
       "      <td>51</td>\n",
       "      <td>M</td>\n",
       "      <td>south</td>\n",
       "      <td>80.9</td>\n",
       "      <td>155.9</td>\n",
       "      <td>33.29</td>\n",
       "      <td>1.0</td>\n",
       "      <td>92.4</td>\n",
       "      <td>129.0</td>\n",
       "      <td>78.0</td>\n",
       "      <td>...</td>\n",
       "      <td>0.0</td>\n",
       "      <td>0</td>\n",
       "      <td>1.0</td>\n",
       "      <td>0</td>\n",
       "      <td>0.0</td>\n",
       "      <td>0</td>\n",
       "      <td>0.0</td>\n",
       "      <td>0.0</td>\n",
       "      <td>0.0</td>\n",
       "      <td>0.0</td>\n",
       "    </tr>\n",
       "    <tr>\n",
       "      <th>191</th>\n",
       "      <td>61</td>\n",
       "      <td>F</td>\n",
       "      <td>south</td>\n",
       "      <td>97.1</td>\n",
       "      <td>171.0</td>\n",
       "      <td>33.21</td>\n",
       "      <td>1.0</td>\n",
       "      <td>114.3</td>\n",
       "      <td>132.0</td>\n",
       "      <td>88.0</td>\n",
       "      <td>...</td>\n",
       "      <td>0.0</td>\n",
       "      <td>1</td>\n",
       "      <td>0.0</td>\n",
       "      <td>0</td>\n",
       "      <td>0.0</td>\n",
       "      <td>1</td>\n",
       "      <td>0.0</td>\n",
       "      <td>0.0</td>\n",
       "      <td>0.0</td>\n",
       "      <td>0.0</td>\n",
       "    </tr>\n",
       "    <tr>\n",
       "      <th>1125</th>\n",
       "      <td>22</td>\n",
       "      <td>M</td>\n",
       "      <td>east</td>\n",
       "      <td>57.6</td>\n",
       "      <td>166.7</td>\n",
       "      <td>20.73</td>\n",
       "      <td>0.0</td>\n",
       "      <td>79.9</td>\n",
       "      <td>93.0</td>\n",
       "      <td>66.0</td>\n",
       "      <td>...</td>\n",
       "      <td>0.0</td>\n",
       "      <td>0</td>\n",
       "      <td>0.0</td>\n",
       "      <td>0</td>\n",
       "      <td>0.0</td>\n",
       "      <td>0</td>\n",
       "      <td>0.0</td>\n",
       "      <td>0.0</td>\n",
       "      <td>0.0</td>\n",
       "      <td>0.0</td>\n",
       "    </tr>\n",
       "    <tr>\n",
       "      <th>352</th>\n",
       "      <td>29</td>\n",
       "      <td>F</td>\n",
       "      <td>south</td>\n",
       "      <td>63.9</td>\n",
       "      <td>162.3</td>\n",
       "      <td>24.26</td>\n",
       "      <td>0.0</td>\n",
       "      <td>81.9</td>\n",
       "      <td>119.0</td>\n",
       "      <td>67.0</td>\n",
       "      <td>...</td>\n",
       "      <td>1.0</td>\n",
       "      <td>0</td>\n",
       "      <td>NaN</td>\n",
       "      <td>1</td>\n",
       "      <td>0.0</td>\n",
       "      <td>0</td>\n",
       "      <td>0.0</td>\n",
       "      <td>0.0</td>\n",
       "      <td>0.0</td>\n",
       "      <td>0.0</td>\n",
       "    </tr>\n",
       "    <tr>\n",
       "      <th>3722</th>\n",
       "      <td>63</td>\n",
       "      <td>M</td>\n",
       "      <td>east</td>\n",
       "      <td>115.8</td>\n",
       "      <td>164.4</td>\n",
       "      <td>42.85</td>\n",
       "      <td>1.0</td>\n",
       "      <td>121.3</td>\n",
       "      <td>146.0</td>\n",
       "      <td>81.0</td>\n",
       "      <td>...</td>\n",
       "      <td>0.0</td>\n",
       "      <td>1</td>\n",
       "      <td>1.0</td>\n",
       "      <td>0</td>\n",
       "      <td>1.0</td>\n",
       "      <td>0</td>\n",
       "      <td>0.0</td>\n",
       "      <td>0.0</td>\n",
       "      <td>0.0</td>\n",
       "      <td>0.0</td>\n",
       "    </tr>\n",
       "    <tr>\n",
       "      <th>3013</th>\n",
       "      <td>66</td>\n",
       "      <td>F</td>\n",
       "      <td>east</td>\n",
       "      <td>76.3</td>\n",
       "      <td>167.2</td>\n",
       "      <td>27.29</td>\n",
       "      <td>0.0</td>\n",
       "      <td>100.4</td>\n",
       "      <td>145.0</td>\n",
       "      <td>79.0</td>\n",
       "      <td>...</td>\n",
       "      <td>0.0</td>\n",
       "      <td>0</td>\n",
       "      <td>1.0</td>\n",
       "      <td>0</td>\n",
       "      <td>0.0</td>\n",
       "      <td>0</td>\n",
       "      <td>0.0</td>\n",
       "      <td>0.0</td>\n",
       "      <td>0.0</td>\n",
       "      <td>0.0</td>\n",
       "    </tr>\n",
       "    <tr>\n",
       "      <th>5626</th>\n",
       "      <td>52</td>\n",
       "      <td>F</td>\n",
       "      <td>east</td>\n",
       "      <td>83.4</td>\n",
       "      <td>175.9</td>\n",
       "      <td>26.95</td>\n",
       "      <td>0.0</td>\n",
       "      <td>96.6</td>\n",
       "      <td>105.0</td>\n",
       "      <td>60.0</td>\n",
       "      <td>...</td>\n",
       "      <td>0.0</td>\n",
       "      <td>1</td>\n",
       "      <td>0.0</td>\n",
       "      <td>1</td>\n",
       "      <td>0.0</td>\n",
       "      <td>1</td>\n",
       "      <td>0.0</td>\n",
       "      <td>0.0</td>\n",
       "      <td>0.0</td>\n",
       "      <td>0.0</td>\n",
       "    </tr>\n",
       "  </tbody>\n",
       "</table>\n",
       "<p>10 rows × 30 columns</p>\n",
       "</div>"
      ],
      "text/plain": [
       "      Age Gender Region  Weight  Height  Body Mass Index  Obesity  Waist  \\\n",
       "4979   52      F   east    95.4   177.6            30.25      1.0  113.3   \n",
       "2745   62      M  north    82.5   152.5            35.47      1.0  106.7   \n",
       "2786   30      M  north    74.2   152.9            31.74      1.0   84.4   \n",
       "487    51      M  south    80.9   155.9            33.29      1.0   92.4   \n",
       "191    61      F  south    97.1   171.0            33.21      1.0  114.3   \n",
       "1125   22      M   east    57.6   166.7            20.73      0.0   79.9   \n",
       "352    29      F  south    63.9   162.3            24.26      0.0   81.9   \n",
       "3722   63      M   east   115.8   164.4            42.85      1.0  121.3   \n",
       "3013   66      F   east    76.3   167.2            27.29      0.0  100.4   \n",
       "5626   52      F   east    83.4   175.9            26.95      0.0   96.6   \n",
       "\n",
       "      Maximum Blood Pressure  Minimum Blood Pressure ...   PoorVision  \\\n",
       "4979                   145.0                    88.0 ...          0.0   \n",
       "2745                   161.0                    72.0 ...          0.0   \n",
       "2786                   120.0                    65.0 ...          0.0   \n",
       "487                    129.0                    78.0 ...          0.0   \n",
       "191                    132.0                    88.0 ...          0.0   \n",
       "1125                    93.0                    66.0 ...          0.0   \n",
       "352                    119.0                    67.0 ...          1.0   \n",
       "3722                   146.0                    81.0 ...          0.0   \n",
       "3013                   145.0                    79.0 ...          0.0   \n",
       "5626                   105.0                    60.0 ...          0.0   \n",
       "\n",
       "      Alcohol Consumption  HyperTension Family  HyperTension Diabetes  \\\n",
       "4979                    0           1.0                    1      0.0   \n",
       "2745                    0           1.0                    0      1.0   \n",
       "2786                    0           0.0                    1      0.0   \n",
       "487                     0           1.0                    0      0.0   \n",
       "191                     1           0.0                    0      0.0   \n",
       "1125                    0           0.0                    0      0.0   \n",
       "352                     0           NaN                    1      0.0   \n",
       "3722                    1           1.0                    0      1.0   \n",
       "3013                    0           1.0                    0      0.0   \n",
       "5626                    1           0.0                    1      0.0   \n",
       "\n",
       "     Family Diabetes Hepatitis Family Hepatitis Chronic Fatigue  ALF  \n",
       "4979               0       0.0              0.0             0.0  0.0  \n",
       "2745               1       0.0              0.0             0.0  0.0  \n",
       "2786               1       0.0              0.0             0.0  0.0  \n",
       "487                0       0.0              0.0             0.0  0.0  \n",
       "191                1       0.0              0.0             0.0  0.0  \n",
       "1125               0       0.0              0.0             0.0  0.0  \n",
       "352                0       0.0              0.0             0.0  0.0  \n",
       "3722               0       0.0              0.0             0.0  0.0  \n",
       "3013               0       0.0              0.0             0.0  0.0  \n",
       "5626               1       0.0              0.0             0.0  0.0  \n",
       "\n",
       "[10 rows x 30 columns]"
      ]
     },
     "execution_count": 10,
     "metadata": {},
     "output_type": "execute_result"
    }
   ],
   "source": [
    "# Extracting a random sample of 10 patients to test a prediction model later\n",
    "\n",
    "sample = data.sample(10)\n",
    "sample"
   ]
  },
  {
   "cell_type": "code",
   "execution_count": 11,
   "metadata": {},
   "outputs": [
    {
     "name": "stdout",
     "output_type": "stream",
     "text": [
      "<class 'pandas.core.frame.DataFrame'>\n",
      "Int64Index: 5990 entries, 0 to 5999\n",
      "Data columns (total 30 columns):\n",
      "Age                       5990 non-null int64\n",
      "Gender                    5990 non-null object\n",
      "Region                    5990 non-null object\n",
      "Weight                    5990 non-null float64\n",
      "Height                    5990 non-null float64\n",
      "Body Mass Index           5990 non-null float64\n",
      "Obesity                   5784 non-null float64\n",
      "Waist                     5990 non-null float64\n",
      "Maximum Blood Pressure    5990 non-null float64\n",
      "Minimum Blood Pressure    5990 non-null float64\n",
      "Good Cholesterol          5990 non-null float64\n",
      "Bad Cholesterol           5990 non-null float64\n",
      "Total Cholesterol         5990 non-null float64\n",
      "Dyslipidemia              5990 non-null category\n",
      "PVD                       5990 non-null category\n",
      "Physical Activity         5982 non-null category\n",
      "Education                 5975 non-null category\n",
      "Unmarried                 5689 non-null category\n",
      "Income                    5199 non-null category\n",
      "Source of Care            5990 non-null category\n",
      "PoorVision                5614 non-null category\n",
      "Alcohol Consumption       5990 non-null category\n",
      "HyperTension              5938 non-null category\n",
      "Family  HyperTension      5990 non-null category\n",
      "Diabetes                  5989 non-null category\n",
      "Family Diabetes           5990 non-null category\n",
      "Hepatitis                 5977 non-null category\n",
      "Family Hepatitis          5987 non-null category\n",
      "Chronic Fatigue           5964 non-null category\n",
      "ALF                       5990 non-null category\n",
      "dtypes: category(17), float64(10), int64(1), object(2)\n",
      "memory usage: 756.4+ KB\n"
     ]
    }
   ],
   "source": [
    "#Dropping the sample population from dataframe\n",
    "\n",
    "data = data.drop(sample.index)\n",
    "data.info()"
   ]
  },
  {
   "cell_type": "markdown",
   "metadata": {},
   "source": [
    "## Correlations"
   ]
  },
  {
   "cell_type": "code",
   "execution_count": 12,
   "metadata": {},
   "outputs": [
    {
     "data": {
      "text/html": [
       "<div>\n",
       "<style scoped>\n",
       "    .dataframe tbody tr th:only-of-type {\n",
       "        vertical-align: middle;\n",
       "    }\n",
       "\n",
       "    .dataframe tbody tr th {\n",
       "        vertical-align: top;\n",
       "    }\n",
       "\n",
       "    .dataframe thead th {\n",
       "        text-align: right;\n",
       "    }\n",
       "</style>\n",
       "<table border=\"1\" class=\"dataframe\">\n",
       "  <thead>\n",
       "    <tr style=\"text-align: right;\">\n",
       "      <th></th>\n",
       "      <th>Age</th>\n",
       "      <th>Weight</th>\n",
       "      <th>Height</th>\n",
       "      <th>Body Mass Index</th>\n",
       "      <th>Obesity</th>\n",
       "      <th>Waist</th>\n",
       "      <th>Maximum Blood Pressure</th>\n",
       "      <th>Minimum Blood Pressure</th>\n",
       "      <th>Good Cholesterol</th>\n",
       "      <th>Bad Cholesterol</th>\n",
       "      <th>Total Cholesterol</th>\n",
       "    </tr>\n",
       "  </thead>\n",
       "  <tbody>\n",
       "    <tr>\n",
       "      <th>Age</th>\n",
       "      <td>1.000000</td>\n",
       "      <td>-0.050195</td>\n",
       "      <td>-0.141578</td>\n",
       "      <td>0.025648</td>\n",
       "      <td>0.005862</td>\n",
       "      <td>0.166377</td>\n",
       "      <td>0.550398</td>\n",
       "      <td>0.020138</td>\n",
       "      <td>0.040747</td>\n",
       "      <td>0.136373</td>\n",
       "      <td>0.152750</td>\n",
       "    </tr>\n",
       "    <tr>\n",
       "      <th>Weight</th>\n",
       "      <td>-0.050195</td>\n",
       "      <td>1.000000</td>\n",
       "      <td>0.456308</td>\n",
       "      <td>0.855897</td>\n",
       "      <td>0.661632</td>\n",
       "      <td>0.861279</td>\n",
       "      <td>0.046568</td>\n",
       "      <td>0.170839</td>\n",
       "      <td>-0.311057</td>\n",
       "      <td>0.132575</td>\n",
       "      <td>0.017403</td>\n",
       "    </tr>\n",
       "    <tr>\n",
       "      <th>Height</th>\n",
       "      <td>-0.141578</td>\n",
       "      <td>0.456308</td>\n",
       "      <td>1.000000</td>\n",
       "      <td>-0.034628</td>\n",
       "      <td>-0.055528</td>\n",
       "      <td>0.191134</td>\n",
       "      <td>-0.101888</td>\n",
       "      <td>0.156068</td>\n",
       "      <td>-0.195237</td>\n",
       "      <td>-0.033014</td>\n",
       "      <td>-0.106174</td>\n",
       "    </tr>\n",
       "    <tr>\n",
       "      <th>Body Mass Index</th>\n",
       "      <td>0.025648</td>\n",
       "      <td>0.855897</td>\n",
       "      <td>-0.034628</td>\n",
       "      <td>1.000000</td>\n",
       "      <td>0.780646</td>\n",
       "      <td>0.859126</td>\n",
       "      <td>0.112654</td>\n",
       "      <td>0.105968</td>\n",
       "      <td>-0.239101</td>\n",
       "      <td>0.159516</td>\n",
       "      <td>0.071403</td>\n",
       "    </tr>\n",
       "    <tr>\n",
       "      <th>Obesity</th>\n",
       "      <td>0.005862</td>\n",
       "      <td>0.661632</td>\n",
       "      <td>-0.055528</td>\n",
       "      <td>0.780646</td>\n",
       "      <td>1.000000</td>\n",
       "      <td>0.677534</td>\n",
       "      <td>0.079867</td>\n",
       "      <td>0.090535</td>\n",
       "      <td>-0.181594</td>\n",
       "      <td>0.122148</td>\n",
       "      <td>0.055312</td>\n",
       "    </tr>\n",
       "    <tr>\n",
       "      <th>Waist</th>\n",
       "      <td>0.166377</td>\n",
       "      <td>0.861279</td>\n",
       "      <td>0.191134</td>\n",
       "      <td>0.859126</td>\n",
       "      <td>0.677534</td>\n",
       "      <td>1.000000</td>\n",
       "      <td>0.172664</td>\n",
       "      <td>0.121714</td>\n",
       "      <td>-0.304063</td>\n",
       "      <td>0.229652</td>\n",
       "      <td>0.117754</td>\n",
       "    </tr>\n",
       "    <tr>\n",
       "      <th>Maximum Blood Pressure</th>\n",
       "      <td>0.550398</td>\n",
       "      <td>0.046568</td>\n",
       "      <td>-0.101888</td>\n",
       "      <td>0.112654</td>\n",
       "      <td>0.079867</td>\n",
       "      <td>0.172664</td>\n",
       "      <td>1.000000</td>\n",
       "      <td>0.341815</td>\n",
       "      <td>0.014661</td>\n",
       "      <td>0.139339</td>\n",
       "      <td>0.145992</td>\n",
       "    </tr>\n",
       "    <tr>\n",
       "      <th>Minimum Blood Pressure</th>\n",
       "      <td>0.020138</td>\n",
       "      <td>0.170839</td>\n",
       "      <td>0.156068</td>\n",
       "      <td>0.105968</td>\n",
       "      <td>0.090535</td>\n",
       "      <td>0.121714</td>\n",
       "      <td>0.341815</td>\n",
       "      <td>1.000000</td>\n",
       "      <td>-0.080861</td>\n",
       "      <td>0.124815</td>\n",
       "      <td>0.095056</td>\n",
       "    </tr>\n",
       "    <tr>\n",
       "      <th>Good Cholesterol</th>\n",
       "      <td>0.040747</td>\n",
       "      <td>-0.311057</td>\n",
       "      <td>-0.195237</td>\n",
       "      <td>-0.239101</td>\n",
       "      <td>-0.181594</td>\n",
       "      <td>-0.304063</td>\n",
       "      <td>0.014661</td>\n",
       "      <td>-0.080861</td>\n",
       "      <td>1.000000</td>\n",
       "      <td>-0.205385</td>\n",
       "      <td>0.167563</td>\n",
       "    </tr>\n",
       "    <tr>\n",
       "      <th>Bad Cholesterol</th>\n",
       "      <td>0.136373</td>\n",
       "      <td>0.132575</td>\n",
       "      <td>-0.033014</td>\n",
       "      <td>0.159516</td>\n",
       "      <td>0.122148</td>\n",
       "      <td>0.229652</td>\n",
       "      <td>0.139339</td>\n",
       "      <td>0.124815</td>\n",
       "      <td>-0.205385</td>\n",
       "      <td>1.000000</td>\n",
       "      <td>0.930302</td>\n",
       "    </tr>\n",
       "    <tr>\n",
       "      <th>Total Cholesterol</th>\n",
       "      <td>0.152750</td>\n",
       "      <td>0.017403</td>\n",
       "      <td>-0.106174</td>\n",
       "      <td>0.071403</td>\n",
       "      <td>0.055312</td>\n",
       "      <td>0.117754</td>\n",
       "      <td>0.145992</td>\n",
       "      <td>0.095056</td>\n",
       "      <td>0.167563</td>\n",
       "      <td>0.930302</td>\n",
       "      <td>1.000000</td>\n",
       "    </tr>\n",
       "  </tbody>\n",
       "</table>\n",
       "</div>"
      ],
      "text/plain": [
       "                             Age    Weight    Height  Body Mass Index  \\\n",
       "Age                     1.000000 -0.050195 -0.141578         0.025648   \n",
       "Weight                 -0.050195  1.000000  0.456308         0.855897   \n",
       "Height                 -0.141578  0.456308  1.000000        -0.034628   \n",
       "Body Mass Index         0.025648  0.855897 -0.034628         1.000000   \n",
       "Obesity                 0.005862  0.661632 -0.055528         0.780646   \n",
       "Waist                   0.166377  0.861279  0.191134         0.859126   \n",
       "Maximum Blood Pressure  0.550398  0.046568 -0.101888         0.112654   \n",
       "Minimum Blood Pressure  0.020138  0.170839  0.156068         0.105968   \n",
       "Good Cholesterol        0.040747 -0.311057 -0.195237        -0.239101   \n",
       "Bad Cholesterol         0.136373  0.132575 -0.033014         0.159516   \n",
       "Total Cholesterol       0.152750  0.017403 -0.106174         0.071403   \n",
       "\n",
       "                         Obesity     Waist  Maximum Blood Pressure  \\\n",
       "Age                     0.005862  0.166377                0.550398   \n",
       "Weight                  0.661632  0.861279                0.046568   \n",
       "Height                 -0.055528  0.191134               -0.101888   \n",
       "Body Mass Index         0.780646  0.859126                0.112654   \n",
       "Obesity                 1.000000  0.677534                0.079867   \n",
       "Waist                   0.677534  1.000000                0.172664   \n",
       "Maximum Blood Pressure  0.079867  0.172664                1.000000   \n",
       "Minimum Blood Pressure  0.090535  0.121714                0.341815   \n",
       "Good Cholesterol       -0.181594 -0.304063                0.014661   \n",
       "Bad Cholesterol         0.122148  0.229652                0.139339   \n",
       "Total Cholesterol       0.055312  0.117754                0.145992   \n",
       "\n",
       "                        Minimum Blood Pressure  Good Cholesterol  \\\n",
       "Age                                   0.020138          0.040747   \n",
       "Weight                                0.170839         -0.311057   \n",
       "Height                                0.156068         -0.195237   \n",
       "Body Mass Index                       0.105968         -0.239101   \n",
       "Obesity                               0.090535         -0.181594   \n",
       "Waist                                 0.121714         -0.304063   \n",
       "Maximum Blood Pressure                0.341815          0.014661   \n",
       "Minimum Blood Pressure                1.000000         -0.080861   \n",
       "Good Cholesterol                     -0.080861          1.000000   \n",
       "Bad Cholesterol                       0.124815         -0.205385   \n",
       "Total Cholesterol                     0.095056          0.167563   \n",
       "\n",
       "                        Bad Cholesterol  Total Cholesterol  \n",
       "Age                            0.136373           0.152750  \n",
       "Weight                         0.132575           0.017403  \n",
       "Height                        -0.033014          -0.106174  \n",
       "Body Mass Index                0.159516           0.071403  \n",
       "Obesity                        0.122148           0.055312  \n",
       "Waist                          0.229652           0.117754  \n",
       "Maximum Blood Pressure         0.139339           0.145992  \n",
       "Minimum Blood Pressure         0.124815           0.095056  \n",
       "Good Cholesterol              -0.205385           0.167563  \n",
       "Bad Cholesterol                1.000000           0.930302  \n",
       "Total Cholesterol              0.930302           1.000000  "
      ]
     },
     "execution_count": 12,
     "metadata": {},
     "output_type": "execute_result"
    }
   ],
   "source": [
    "corr_df = data.corr()\n",
    "corr_df"
   ]
  },
  {
   "cell_type": "code",
   "execution_count": 13,
   "metadata": {},
   "outputs": [
    {
     "data": {
      "image/png": "[encoded data removed]",
      "text/plain": [
       "<Figure size 864x648 with 2 Axes>"
      ]
     },
     "metadata": {
      "needs_background": "light"
     },
     "output_type": "display_data"
    }
   ],
   "source": [
    "#Hetmap with correlations\n",
    "\n",
    "plt.figure(figsize=(12,9))\n",
    "sns.heatmap(corr_df, annot=True, cmap=\"PiYG\")\n",
    "plt.show()"
   ]
  },
  {
   "cell_type": "markdown",
   "metadata": {},
   "source": [
    "The variables with higher correlation, as expected, are the ones related to body weight between them: Weight, BMI, Waist, ... <br>\n",
    "Also Bad cholesterol with total cholesterol."
   ]
  },
  {
   "cell_type": "markdown",
   "metadata": {},
   "source": [
    "## Comparison of variables between ALF patients vs no ALF"
   ]
  },
  {
   "cell_type": "code",
   "execution_count": 14,
   "metadata": {},
   "outputs": [],
   "source": [
    "# I am choosing 3 variables of interest to analyze. \n",
    "# My choice: Age, Hepatitis and Maximum Blood Pressure"
   ]
  },
  {
   "cell_type": "markdown",
   "metadata": {},
   "source": [
    "## Comparing Age between patients with ALF vs no ALF"
   ]
  },
  {
   "cell_type": "code",
   "execution_count": 15,
   "metadata": {},
   "outputs": [
    {
     "data": {
      "text/html": [
       "<div>\n",
       "<style scoped>\n",
       "    .dataframe tbody tr th:only-of-type {\n",
       "        vertical-align: middle;\n",
       "    }\n",
       "\n",
       "    .dataframe tbody tr th {\n",
       "        vertical-align: top;\n",
       "    }\n",
       "\n",
       "    .dataframe thead th {\n",
       "        text-align: right;\n",
       "    }\n",
       "</style>\n",
       "<table border=\"1\" class=\"dataframe\">\n",
       "  <thead>\n",
       "    <tr style=\"text-align: right;\">\n",
       "      <th></th>\n",
       "      <th>Age</th>\n",
       "      <th>ALF</th>\n",
       "    </tr>\n",
       "  </thead>\n",
       "  <tbody>\n",
       "    <tr>\n",
       "      <th>0</th>\n",
       "      <td>65</td>\n",
       "      <td>0.0</td>\n",
       "    </tr>\n",
       "    <tr>\n",
       "      <th>1</th>\n",
       "      <td>36</td>\n",
       "      <td>0.0</td>\n",
       "    </tr>\n",
       "    <tr>\n",
       "      <th>2</th>\n",
       "      <td>66</td>\n",
       "      <td>0.0</td>\n",
       "    </tr>\n",
       "    <tr>\n",
       "      <th>3</th>\n",
       "      <td>54</td>\n",
       "      <td>0.0</td>\n",
       "    </tr>\n",
       "    <tr>\n",
       "      <th>4</th>\n",
       "      <td>63</td>\n",
       "      <td>0.0</td>\n",
       "    </tr>\n",
       "  </tbody>\n",
       "</table>\n",
       "</div>"
      ],
      "text/plain": [
       "   Age  ALF\n",
       "0   65  0.0\n",
       "1   36  0.0\n",
       "2   66  0.0\n",
       "3   54  0.0\n",
       "4   63  0.0"
      ]
     },
     "execution_count": 15,
     "metadata": {},
     "output_type": "execute_result"
    }
   ],
   "source": [
    "# Creating a dataframe with Age and ALF columns only\n",
    "\n",
    "age_df = data[['Age', 'ALF']]\n",
    "age_df.head()"
   ]
  },
  {
   "cell_type": "code",
   "execution_count": 16,
   "metadata": {},
   "outputs": [
    {
     "name": "stderr",
     "output_type": "stream",
     "text": [
      "C:\\Users\\marcm\\Anaconda3\\lib\\site-packages\\scipy\\stats\\stats.py:1713: FutureWarning: Using a non-tuple sequence for multidimensional indexing is deprecated; use `arr[tuple(seq)]` instead of `arr[seq]`. In the future this will be interpreted as an array index, `arr[np.array(seq)]`, which will result either in an error or a different result.\n",
      "  return np.add.reduce(sorted[indexer] * weights, axis=axis) / sumval\n"
     ]
    },
    {
     "data": {
      "image/png": "[encoded data removed]",
      "text/plain": [
       "<Figure size 864x648 with 1 Axes>"
      ]
     },
     "metadata": {
      "needs_background": "light"
     },
     "output_type": "display_data"
    }
   ],
   "source": [
    "# Plotting the distribution of the variable Age\n",
    "\n",
    "plt.figure(figsize=(12,9))\n",
    "sns.distplot(age_df['Age'])\n",
    "plt.show()"
   ]
  },
  {
   "cell_type": "code",
   "execution_count": 17,
   "metadata": {},
   "outputs": [
    {
     "data": {
      "image/png": "[encoded data removed]",
      "text/plain": [
       "<Figure size 648x504 with 1 Axes>"
      ]
     },
     "metadata": {
      "needs_background": "light"
     },
     "output_type": "display_data"
    }
   ],
   "source": [
    "# Plotting the boxplots of the variable Age according to ALF\n",
    "\n",
    "plt.figure(figsize=(9,7))\n",
    "sns.boxplot(x='ALF', y='Age', data=age_df)\n",
    "plt.show()"
   ]
  },
  {
   "cell_type": "code",
   "execution_count": 18,
   "metadata": {},
   "outputs": [],
   "source": [
    "# Splitting ages for ALF positive and negative patients\n",
    "\n",
    "age1 = age_df.loc[age_df['ALF']==1]\n",
    "age0 = age_df.loc[age_df['ALF']==0]"
   ]
  },
  {
   "cell_type": "code",
   "execution_count": 19,
   "metadata": {},
   "outputs": [
    {
     "name": "stdout",
     "output_type": "stream",
     "text": [
      "Test results:  Ttest_indResult(statistic=30.611844455603652, pvalue=2.4891313474890105e-191)\n"
     ]
    }
   ],
   "source": [
    "# Comparing value of Age for ALF positive and negative patients with t-test for independent groups\n",
    "# H0: ALF positive average Age = ALF negative average Age\n",
    "# H1: ALF positive average Age != ALF negative average Age\n",
    "\n",
    "from scipy.stats import ttest_ind\n",
    "\n",
    "print('Test results: ', ttest_ind(age1['Age'], age0['Age'], equal_var=True))\n",
    "\n",
    "# The p-value is lower than 0.05, so the mean of Age for ALF positive patients VS ALF negative is different."
   ]
  },
  {
   "cell_type": "markdown",
   "metadata": {},
   "source": [
    "## Comparing Hepatitis between patients with ALF vs no ALF"
   ]
  },
  {
   "cell_type": "code",
   "execution_count": 20,
   "metadata": {},
   "outputs": [
    {
     "data": {
      "text/html": [
       "<div>\n",
       "<style scoped>\n",
       "    .dataframe tbody tr th:only-of-type {\n",
       "        vertical-align: middle;\n",
       "    }\n",
       "\n",
       "    .dataframe tbody tr th {\n",
       "        vertical-align: top;\n",
       "    }\n",
       "\n",
       "    .dataframe thead th {\n",
       "        text-align: right;\n",
       "    }\n",
       "</style>\n",
       "<table border=\"1\" class=\"dataframe\">\n",
       "  <thead>\n",
       "    <tr style=\"text-align: right;\">\n",
       "      <th></th>\n",
       "      <th>ALF</th>\n",
       "      <th>Hepatitis</th>\n",
       "      <th>Gender</th>\n",
       "    </tr>\n",
       "  </thead>\n",
       "  <tbody>\n",
       "    <tr>\n",
       "      <th>0</th>\n",
       "      <td>0.0</td>\n",
       "      <td>1.0</td>\n",
       "      <td>M</td>\n",
       "    </tr>\n",
       "    <tr>\n",
       "      <th>1</th>\n",
       "      <td>0.0</td>\n",
       "      <td>0.0</td>\n",
       "      <td>M</td>\n",
       "    </tr>\n",
       "    <tr>\n",
       "      <th>2</th>\n",
       "      <td>0.0</td>\n",
       "      <td>0.0</td>\n",
       "      <td>M</td>\n",
       "    </tr>\n",
       "    <tr>\n",
       "      <th>3</th>\n",
       "      <td>0.0</td>\n",
       "      <td>0.0</td>\n",
       "      <td>M</td>\n",
       "    </tr>\n",
       "    <tr>\n",
       "      <th>4</th>\n",
       "      <td>0.0</td>\n",
       "      <td>0.0</td>\n",
       "      <td>M</td>\n",
       "    </tr>\n",
       "  </tbody>\n",
       "</table>\n",
       "</div>"
      ],
      "text/plain": [
       "   ALF Hepatitis Gender\n",
       "0  0.0       1.0      M\n",
       "1  0.0       0.0      M\n",
       "2  0.0       0.0      M\n",
       "3  0.0       0.0      M\n",
       "4  0.0       0.0      M"
      ]
     },
     "execution_count": 20,
     "metadata": {},
     "output_type": "execute_result"
    }
   ],
   "source": [
    "# Reducing the dataframe to ALF, Hepatitis and another column that will be used to count patients after grouping them\n",
    "\n",
    "hep_df = data[['ALF','Hepatitis', 'Gender']]\n",
    "hep_df.head()"
   ]
  },
  {
   "cell_type": "code",
   "execution_count": 21,
   "metadata": {},
   "outputs": [
    {
     "data": {
      "text/html": [
       "<div>\n",
       "<style scoped>\n",
       "    .dataframe tbody tr th:only-of-type {\n",
       "        vertical-align: middle;\n",
       "    }\n",
       "\n",
       "    .dataframe tbody tr th {\n",
       "        vertical-align: top;\n",
       "    }\n",
       "\n",
       "    .dataframe thead th {\n",
       "        text-align: right;\n",
       "    }\n",
       "</style>\n",
       "<table border=\"1\" class=\"dataframe\">\n",
       "  <thead>\n",
       "    <tr style=\"text-align: right;\">\n",
       "      <th></th>\n",
       "      <th>ALF</th>\n",
       "      <th>Hepatitis</th>\n",
       "      <th>Count</th>\n",
       "    </tr>\n",
       "  </thead>\n",
       "  <tbody>\n",
       "    <tr>\n",
       "      <th>0</th>\n",
       "      <td>0.0</td>\n",
       "      <td>0.0</td>\n",
       "      <td>5239</td>\n",
       "    </tr>\n",
       "    <tr>\n",
       "      <th>1</th>\n",
       "      <td>0.0</td>\n",
       "      <td>1.0</td>\n",
       "      <td>275</td>\n",
       "    </tr>\n",
       "    <tr>\n",
       "      <th>2</th>\n",
       "      <td>1.0</td>\n",
       "      <td>0.0</td>\n",
       "      <td>348</td>\n",
       "    </tr>\n",
       "    <tr>\n",
       "      <th>3</th>\n",
       "      <td>1.0</td>\n",
       "      <td>1.0</td>\n",
       "      <td>115</td>\n",
       "    </tr>\n",
       "  </tbody>\n",
       "</table>\n",
       "</div>"
      ],
      "text/plain": [
       "   ALF Hepatitis  Count\n",
       "0  0.0       0.0   5239\n",
       "1  0.0       1.0    275\n",
       "2  1.0       0.0    348\n",
       "3  1.0       1.0    115"
      ]
     },
     "execution_count": 21,
     "metadata": {},
     "output_type": "execute_result"
    }
   ],
   "source": [
    "#Grouping patients according to ALF and Hepatitis and counting them\n",
    "\n",
    "grouped = hep_df.groupby(['ALF', 'Hepatitis'], as_index=False).count()\n",
    "grouped = grouped.rename(columns={'Gender':'Count'})\n",
    "grouped"
   ]
  },
  {
   "cell_type": "code",
   "execution_count": 22,
   "metadata": {},
   "outputs": [
    {
     "data": {
      "image/png": "[encoded data removed]",
      "text/plain": [
       "<Figure size 720x504 with 1 Axes>"
      ]
     },
     "metadata": {
      "needs_background": "light"
     },
     "output_type": "display_data"
    }
   ],
   "source": [
    "# Plotting the barplot of the variable Hepatitis according to ALF\n",
    "\n",
    "plt.figure(figsize=(10,7))\n",
    "sns.barplot(data=grouped, x='ALF', y='Count', hue='Hepatitis')\n",
    "plt.show()"
   ]
  },
  {
   "cell_type": "code",
   "execution_count": 23,
   "metadata": {},
   "outputs": [
    {
     "data": {
      "text/html": [
       "<div>\n",
       "<style scoped>\n",
       "    .dataframe tbody tr th:only-of-type {\n",
       "        vertical-align: middle;\n",
       "    }\n",
       "\n",
       "    .dataframe tbody tr th {\n",
       "        vertical-align: top;\n",
       "    }\n",
       "\n",
       "    .dataframe thead th {\n",
       "        text-align: right;\n",
       "    }\n",
       "</style>\n",
       "<table border=\"1\" class=\"dataframe\">\n",
       "  <thead>\n",
       "    <tr style=\"text-align: right;\">\n",
       "      <th>ALF</th>\n",
       "      <th>0.0</th>\n",
       "      <th>1.0</th>\n",
       "    </tr>\n",
       "    <tr>\n",
       "      <th>Hepatitis</th>\n",
       "      <th></th>\n",
       "      <th></th>\n",
       "    </tr>\n",
       "  </thead>\n",
       "  <tbody>\n",
       "    <tr>\n",
       "      <th>0.0</th>\n",
       "      <td>5239</td>\n",
       "      <td>348</td>\n",
       "    </tr>\n",
       "    <tr>\n",
       "      <th>1.0</th>\n",
       "      <td>275</td>\n",
       "      <td>115</td>\n",
       "    </tr>\n",
       "  </tbody>\n",
       "</table>\n",
       "</div>"
      ],
      "text/plain": [
       "ALF         0.0  1.0\n",
       "Hepatitis           \n",
       "0.0        5239  348\n",
       "1.0         275  115"
      ]
     },
     "execution_count": 23,
     "metadata": {},
     "output_type": "execute_result"
    }
   ],
   "source": [
    "# As we have two dichotomous variables we will perform a Chi-square test\n",
    "# Creating the contingency table\n",
    "\n",
    "data_crosstab = pd.crosstab(data['Hepatitis'], \n",
    "                            data['ALF'], margins = False) \n",
    "data_crosstab"
   ]
  },
  {
   "cell_type": "code",
   "execution_count": 24,
   "metadata": {},
   "outputs": [
    {
     "name": "stdout",
     "output_type": "stream",
     "text": [
      "p-value=  5.713364434830529e-62\n"
     ]
    }
   ],
   "source": [
    "# Chi-square test\n",
    "# H0: Percentage of patients with Hepatitis with ALF = Percentage of patients with Hepatitis without ALF\n",
    "# H1: Percentage of patients with Hepatitis with ALF != Percentage of patients with Hepatitis without ALF\n",
    "\n",
    "from scipy.stats import chi2_contingency\n",
    "\n",
    "chi2, p, dof, ex = chi2_contingency(data_crosstab, correction=False)\n",
    "print('p-value= ', p)\n",
    "\n",
    "# P-value is lower than 0.05, patients with Hepatitis are differently distributed in patients with ALF vs no ALF."
   ]
  },
  {
   "cell_type": "markdown",
   "metadata": {},
   "source": [
    "## Compare Maximum Blood Pressure between ALF vs no ALF"
   ]
  },
  {
   "cell_type": "code",
   "execution_count": 25,
   "metadata": {},
   "outputs": [
    {
     "data": {
      "text/html": [
       "<div>\n",
       "<style scoped>\n",
       "    .dataframe tbody tr th:only-of-type {\n",
       "        vertical-align: middle;\n",
       "    }\n",
       "\n",
       "    .dataframe tbody tr th {\n",
       "        vertical-align: top;\n",
       "    }\n",
       "\n",
       "    .dataframe thead th {\n",
       "        text-align: right;\n",
       "    }\n",
       "</style>\n",
       "<table border=\"1\" class=\"dataframe\">\n",
       "  <thead>\n",
       "    <tr style=\"text-align: right;\">\n",
       "      <th></th>\n",
       "      <th>Maximum Blood Pressure</th>\n",
       "      <th>ALF</th>\n",
       "    </tr>\n",
       "  </thead>\n",
       "  <tbody>\n",
       "    <tr>\n",
       "      <th>0</th>\n",
       "      <td>135.0</td>\n",
       "      <td>0.0</td>\n",
       "    </tr>\n",
       "    <tr>\n",
       "      <th>1</th>\n",
       "      <td>96.0</td>\n",
       "      <td>0.0</td>\n",
       "    </tr>\n",
       "    <tr>\n",
       "      <th>2</th>\n",
       "      <td>115.0</td>\n",
       "      <td>0.0</td>\n",
       "    </tr>\n",
       "    <tr>\n",
       "      <th>3</th>\n",
       "      <td>110.0</td>\n",
       "      <td>0.0</td>\n",
       "    </tr>\n",
       "    <tr>\n",
       "      <th>4</th>\n",
       "      <td>132.0</td>\n",
       "      <td>0.0</td>\n",
       "    </tr>\n",
       "  </tbody>\n",
       "</table>\n",
       "</div>"
      ],
      "text/plain": [
       "   Maximum Blood Pressure  ALF\n",
       "0                   135.0  0.0\n",
       "1                    96.0  0.0\n",
       "2                   115.0  0.0\n",
       "3                   110.0  0.0\n",
       "4                   132.0  0.0"
      ]
     },
     "execution_count": 25,
     "metadata": {},
     "output_type": "execute_result"
    }
   ],
   "source": [
    "# Creating a dataframe with Max Blood Pressure and ALF columns only\n",
    "\n",
    "mbp_df = data[['Maximum Blood Pressure', 'ALF']]\n",
    "mbp_df.head()"
   ]
  },
  {
   "cell_type": "code",
   "execution_count": 26,
   "metadata": {},
   "outputs": [
    {
     "name": "stderr",
     "output_type": "stream",
     "text": [
      "C:\\Users\\marcm\\Anaconda3\\lib\\site-packages\\scipy\\stats\\stats.py:1713: FutureWarning: Using a non-tuple sequence for multidimensional indexing is deprecated; use `arr[tuple(seq)]` instead of `arr[seq]`. In the future this will be interpreted as an array index, `arr[np.array(seq)]`, which will result either in an error or a different result.\n",
      "  return np.add.reduce(sorted[indexer] * weights, axis=axis) / sumval\n"
     ]
    },
    {
     "data": {
      "image/png": "[encoded data removed]",
      "text/plain": [
       "<Figure size 864x648 with 1 Axes>"
      ]
     },
     "metadata": {
      "needs_background": "light"
     },
     "output_type": "display_data"
    }
   ],
   "source": [
    "# Plotting the distribution of the variable Max Blood Pressure\n",
    "\n",
    "plt.figure(figsize=(12,9))\n",
    "sns.distplot(mbp_df['Maximum Blood Pressure'])\n",
    "plt.show()"
   ]
  },
  {
   "cell_type": "code",
   "execution_count": 27,
   "metadata": {
    "scrolled": true
   },
   "outputs": [
    {
     "data": {
      "image/png": "[encoded data removed]",
      "text/plain": [
       "<Figure size 648x504 with 1 Axes>"
      ]
     },
     "metadata": {
      "needs_background": "light"
     },
     "output_type": "display_data"
    }
   ],
   "source": [
    "# Plotting the boxplots of the variable Max Blood Pressure according to ALF\n",
    "\n",
    "plt.figure(figsize=(9,7))\n",
    "sns.boxplot(x='ALF', y='Maximum Blood Pressure', data=mbp_df)\n",
    "plt.show()"
   ]
  },
  {
   "cell_type": "code",
   "execution_count": 28,
   "metadata": {},
   "outputs": [],
   "source": [
    "# Splitting ages for ALF positive and negative patients\n",
    "\n",
    "mbp1 = mbp_df.loc[mbp_df['ALF']==1]\n",
    "mbp0 = mbp_df.loc[mbp_df['ALF']==0]"
   ]
  },
  {
   "cell_type": "code",
   "execution_count": 29,
   "metadata": {},
   "outputs": [
    {
     "name": "stdout",
     "output_type": "stream",
     "text": [
      "Test results:  Ttest_indResult(statistic=16.77327100314878, pvalue=9.6548767862889e-62)\n"
     ]
    }
   ],
   "source": [
    "# Comparing value of Max Blood Pressure for ALF positive and negative patients with t-test for independent groups\n",
    "# H0: ALF positive average Max Blood Pressure = ALF negative average Max Blood Pressure\n",
    "# H1: ALF positive average Max Blood Pressure != ALF negative average Max Blood Pressure\n",
    "\n",
    "from scipy.stats import ttest_ind\n",
    "\n",
    "print('Test results: ', ttest_ind(mbp1['Maximum Blood Pressure'], mbp0['Maximum Blood Pressure'], equal_var=True))\n",
    "\n",
    "# The p-value is lower than 0.05, so the mean of Maximum Blood Pressure for ALF positive patients VS ALF negative is different."
   ]
  },
  {
   "cell_type": "markdown",
   "metadata": {},
   "source": [
    "## Principal Components Analysis to predict ALF"
   ]
  },
  {
   "cell_type": "code",
   "execution_count": 30,
   "metadata": {},
   "outputs": [
    {
     "data": {
      "text/html": [
       "<div>\n",
       "<style scoped>\n",
       "    .dataframe tbody tr th:only-of-type {\n",
       "        vertical-align: middle;\n",
       "    }\n",
       "\n",
       "    .dataframe tbody tr th {\n",
       "        vertical-align: top;\n",
       "    }\n",
       "\n",
       "    .dataframe thead th {\n",
       "        text-align: right;\n",
       "    }\n",
       "</style>\n",
       "<table border=\"1\" class=\"dataframe\">\n",
       "  <thead>\n",
       "    <tr style=\"text-align: right;\">\n",
       "      <th></th>\n",
       "      <th>PC 1</th>\n",
       "      <th>PC 2</th>\n",
       "      <th>PC 3</th>\n",
       "      <th>PC 4</th>\n",
       "    </tr>\n",
       "  </thead>\n",
       "  <tbody>\n",
       "    <tr>\n",
       "      <th>0</th>\n",
       "      <td>133.352677</td>\n",
       "      <td>-28.314308</td>\n",
       "      <td>11.313558</td>\n",
       "      <td>-19.834752</td>\n",
       "    </tr>\n",
       "    <tr>\n",
       "      <th>1</th>\n",
       "      <td>-43.440325</td>\n",
       "      <td>-20.958698</td>\n",
       "      <td>-28.358993</td>\n",
       "      <td>-32.302143</td>\n",
       "    </tr>\n",
       "    <tr>\n",
       "      <th>2</th>\n",
       "      <td>78.206943</td>\n",
       "      <td>7.204427</td>\n",
       "      <td>-7.495193</td>\n",
       "      <td>-4.218135</td>\n",
       "    </tr>\n",
       "    <tr>\n",
       "      <th>3</th>\n",
       "      <td>18.271264</td>\n",
       "      <td>-34.662197</td>\n",
       "      <td>-2.735114</td>\n",
       "      <td>15.710755</td>\n",
       "    </tr>\n",
       "    <tr>\n",
       "      <th>4</th>\n",
       "      <td>13.698200</td>\n",
       "      <td>-14.349703</td>\n",
       "      <td>18.113559</td>\n",
       "      <td>10.610815</td>\n",
       "    </tr>\n",
       "  </tbody>\n",
       "</table>\n",
       "</div>"
      ],
      "text/plain": [
       "         PC 1       PC 2       PC 3       PC 4\n",
       "0  133.352677 -28.314308  11.313558 -19.834752\n",
       "1  -43.440325 -20.958698 -28.358993 -32.302143\n",
       "2   78.206943   7.204427  -7.495193  -4.218135\n",
       "3   18.271264 -34.662197  -2.735114  15.710755\n",
       "4   13.698200 -14.349703  18.113559  10.610815"
      ]
     },
     "execution_count": 30,
     "metadata": {},
     "output_type": "execute_result"
    }
   ],
   "source": [
    "from sklearn.decomposition import PCA\n",
    "\n",
    "numericData = data[['Age','Weight', 'Height', 'Body Mass Index',\n",
    "       'Waist', 'Maximum Blood Pressure', 'Minimum Blood Pressure',\n",
    "       'Good Cholesterol', 'Bad Cholesterol', 'Total Cholesterol']] \n",
    "\n",
    "pca = PCA(n_components=4) \n",
    "principalComponents = pca.fit_transform(np.array(numericData))\n",
    "\n",
    "principalDf = pd.DataFrame(data = principalComponents\n",
    "             , columns = ['PC 1', 'PC 2', 'PC 3', 'PC 4'])\n",
    "\n",
    "\n",
    "principalDf.head() "
   ]
  },
  {
   "cell_type": "code",
   "execution_count": 31,
   "metadata": {},
   "outputs": [
    {
     "data": {
      "text/plain": [
       "0.9224086268074104"
      ]
     },
     "execution_count": 31,
     "metadata": {},
     "output_type": "execute_result"
    }
   ],
   "source": [
    "#Calculating percentage of variance explained by the 4 components\n",
    "\n",
    "sum(pca.explained_variance_ratio_)"
   ]
  },
  {
   "cell_type": "markdown",
   "metadata": {},
   "source": [
    "## Logistic Regression and testing new people to predict ALF"
   ]
  },
  {
   "cell_type": "code",
   "execution_count": 37,
   "metadata": {},
   "outputs": [
    {
     "name": "stderr",
     "output_type": "stream",
     "text": [
      "C:\\Users\\marcm\\Anaconda3\\lib\\site-packages\\sklearn\\linear_model\\logistic.py:433: FutureWarning: Default solver will be changed to 'lbfgs' in 0.22. Specify a solver to silence this warning.\n",
      "  FutureWarning)\n"
     ]
    },
    {
     "data": {
      "text/plain": [
       "{'C': 1.0,\n",
       " 'class_weight': None,\n",
       " 'dual': False,\n",
       " 'fit_intercept': True,\n",
       " 'intercept_scaling': 1,\n",
       " 'max_iter': 100,\n",
       " 'multi_class': 'warn',\n",
       " 'n_jobs': None,\n",
       " 'penalty': 'l2',\n",
       " 'random_state': None,\n",
       " 'solver': 'warn',\n",
       " 'tol': 0.0001,\n",
       " 'verbose': 0,\n",
       " 'warm_start': False}"
      ]
     },
     "execution_count": 37,
     "metadata": {},
     "output_type": "execute_result"
    }
   ],
   "source": [
    "from sklearn.linear_model import LogisticRegression\n",
    "\n",
    "numericData = data[['Age','Weight', 'Height', 'Body Mass Index',\n",
    "       'Waist', 'Maximum Blood Pressure', 'Minimum Blood Pressure',\n",
    "       'Good Cholesterol', 'Bad Cholesterol', 'Total Cholesterol']] \n",
    "\n",
    "\n",
    "target = data['ALF'] \n",
    "model = LogisticRegression()\n",
    "classification = model.fit(numericData, target)\n",
    "\n",
    "classification.get_params()"
   ]
  },
  {
   "cell_type": "code",
   "execution_count": 40,
   "metadata": {},
   "outputs": [
    {
     "data": {
      "text/plain": [
       "array([0., 1.])"
      ]
     },
     "execution_count": 40,
     "metadata": {},
     "output_type": "execute_result"
    }
   ],
   "source": [
    "classification.classes_"
   ]
  },
  {
   "cell_type": "code",
   "execution_count": 38,
   "metadata": {},
   "outputs": [
    {
     "data": {
      "text/plain": [
       "array([0., 0., 0., 0., 0., 0., 0., 0., 0., 0.])"
      ]
     },
     "execution_count": 38,
     "metadata": {},
     "output_type": "execute_result"
    }
   ],
   "source": [
    "sample_test = sample[['Age','Weight', 'Height', 'Body Mass Index',\n",
    "       'Waist', 'Maximum Blood Pressure', 'Minimum Blood Pressure',\n",
    "       'Good Cholesterol', 'Bad Cholesterol', 'Total Cholesterol']]\n",
    "\n",
    "classification.predict(sample_test)"
   ]
  },
  {
   "cell_type": "code",
   "execution_count": 34,
   "metadata": {},
   "outputs": [
    {
     "data": {
      "text/plain": [
       "4979    0.0\n",
       "2745    0.0\n",
       "2786    0.0\n",
       "487     0.0\n",
       "191     0.0\n",
       "1125    0.0\n",
       "352     0.0\n",
       "3722    0.0\n",
       "3013    0.0\n",
       "5626    0.0\n",
       "Name: ALF, dtype: category\n",
       "Categories (2, float64): [0.0, 1.0]"
      ]
     },
     "execution_count": 34,
     "metadata": {},
     "output_type": "execute_result"
    }
   ],
   "source": [
    "sample['ALF']"
   ]
  },
  {
   "cell_type": "code",
   "execution_count": 35,
   "metadata": {},
   "outputs": [],
   "source": [
    "# The logistic regression model correctly predicted the ALF outcome in the patients from the extracted sample"
   ]
  },
  {
   "cell_type": "code",
   "execution_count": null,
   "metadata": {},
   "outputs": [],
   "source": []
  }
 ],
 "metadata": {
  "kernelspec": {
   "display_name": "Python 3",
   "language": "python",
   "name": "python3"
  },
  "language_info": {
   "codemirror_mode": {
    "name": "ipython",
    "version": 3
   },
   "file_extension": ".py",
   "mimetype": "text/x-python",
   "name": "python",
   "nbconvert_exporter": "python",
   "pygments_lexer": "ipython3",
   "version": "3.7.1"
  }
 },
 "nbformat": 4,
 "nbformat_minor": 2
}
